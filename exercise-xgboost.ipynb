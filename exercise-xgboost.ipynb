{
 "cells": [
  {
   "cell_type": "markdown",
   "id": "cebfd60b",
   "metadata": {
    "papermill": {
     "duration": 0.008115,
     "end_time": "2023-07-14T10:29:21.224161",
     "exception": false,
     "start_time": "2023-07-14T10:29:21.216046",
     "status": "completed"
    },
    "tags": []
   },
   "source": [
    "**This notebook is an exercise in the [Intermediate Machine Learning](https://www.kaggle.com/learn/intermediate-machine-learning) course.  You can reference the tutorial at [this link](https://www.kaggle.com/alexisbcook/xgboost).**\n",
    "\n",
    "---\n"
   ]
  },
  {
   "cell_type": "markdown",
   "id": "17929076",
   "metadata": {
    "papermill": {
     "duration": 0.007076,
     "end_time": "2023-07-14T10:29:21.238972",
     "exception": false,
     "start_time": "2023-07-14T10:29:21.231896",
     "status": "completed"
    },
    "tags": []
   },
   "source": [
    "In this exercise, you will use your new knowledge to train a model with **gradient boosting**.\n",
    "\n",
    "# Setup\n",
    "\n",
    "The questions below will give you feedback on your work. Run the following cell to set up the feedback system."
   ]
  },
  {
   "cell_type": "code",
   "execution_count": 1,
   "id": "25f64a43",
   "metadata": {
    "execution": {
     "iopub.execute_input": "2023-07-14T10:29:21.257562Z",
     "iopub.status.busy": "2023-07-14T10:29:21.256591Z",
     "iopub.status.idle": "2023-07-14T10:29:24.024772Z",
     "shell.execute_reply": "2023-07-14T10:29:24.023499Z"
    },
    "papermill": {
     "duration": 2.78113,
     "end_time": "2023-07-14T10:29:24.027560",
     "exception": false,
     "start_time": "2023-07-14T10:29:21.246430",
     "status": "completed"
    },
    "tags": []
   },
   "outputs": [
    {
     "name": "stderr",
     "output_type": "stream",
     "text": [
      "/opt/conda/lib/python3.10/site-packages/scipy/__init__.py:146: UserWarning: A NumPy version >=1.16.5 and <1.23.0 is required for this version of SciPy (detected version 1.23.5\n",
      "  warnings.warn(f\"A NumPy version >={np_minversion} and <{np_maxversion}\"\n"
     ]
    },
    {
     "name": "stdout",
     "output_type": "stream",
     "text": [
      "Setup Complete\n"
     ]
    }
   ],
   "source": [
    "# Set up code checking\n",
    "import os\n",
    "if not os.path.exists(\"../input/train.csv\"):\n",
    "    os.symlink(\"../input/home-data-for-ml-course/train.csv\", \"../input/train.csv\")  \n",
    "    os.symlink(\"../input/home-data-for-ml-course/test.csv\", \"../input/test.csv\") \n",
    "from learntools.core import binder\n",
    "binder.bind(globals())\n",
    "from learntools.ml_intermediate.ex6 import *\n",
    "print(\"Setup Complete\")"
   ]
  },
  {
   "cell_type": "markdown",
   "id": "0394ab0e",
   "metadata": {
    "papermill": {
     "duration": 0.007063,
     "end_time": "2023-07-14T10:29:24.042738",
     "exception": false,
     "start_time": "2023-07-14T10:29:24.035675",
     "status": "completed"
    },
    "tags": []
   },
   "source": [
    "You will work with the [Housing Prices Competition for Kaggle Learn Users](https://www.kaggle.com/c/home-data-for-ml-course) dataset from the previous exercise. \n",
    "\n",
    "![Ames Housing dataset image](https://storage.googleapis.com/kaggle-media/learn/images/lTJVG4e.png)\n",
    "\n",
    "Run the next code cell without changes to load the training and validation sets in `X_train`, `X_valid`, `y_train`, and `y_valid`.  The test set is loaded in `X_test`."
   ]
  },
  {
   "cell_type": "code",
   "execution_count": 2,
   "id": "65fdc0c7",
   "metadata": {
    "execution": {
     "iopub.execute_input": "2023-07-14T10:29:24.059441Z",
     "iopub.status.busy": "2023-07-14T10:29:24.058990Z",
     "iopub.status.idle": "2023-07-14T10:29:24.264643Z",
     "shell.execute_reply": "2023-07-14T10:29:24.263458Z"
    },
    "papermill": {
     "duration": 0.217661,
     "end_time": "2023-07-14T10:29:24.267717",
     "exception": false,
     "start_time": "2023-07-14T10:29:24.050056",
     "status": "completed"
    },
    "tags": []
   },
   "outputs": [],
   "source": [
    "import pandas as pd\n",
    "from sklearn.model_selection import train_test_split\n",
    "\n",
    "# Read the data\n",
    "X = pd.read_csv('../input/train.csv', index_col='Id')\n",
    "X_test_full = pd.read_csv('../input/test.csv', index_col='Id')\n",
    "\n",
    "# Remove rows with missing target, separate target from predictors\n",
    "X.dropna(axis=0, subset=['SalePrice'], inplace=True)\n",
    "y = X.SalePrice              \n",
    "X.drop(['SalePrice'], axis=1, inplace=True)\n",
    "\n",
    "# Break off validation set from training data\n",
    "X_train_full, X_valid_full, y_train, y_valid = train_test_split(X, y, train_size=0.8, test_size=0.2,\n",
    "                                                                random_state=0)\n",
    "\n",
    "# \"Cardinality\" means the number of unique values in a column\n",
    "# Select categorical columns with relatively low cardinality (convenient but arbitrary)\n",
    "low_cardinality_cols = [cname for cname in X_train_full.columns if X_train_full[cname].nunique() < 10 and \n",
    "                        X_train_full[cname].dtype == \"object\"]\n",
    "\n",
    "# Select numeric columns\n",
    "numeric_cols = [cname for cname in X_train_full.columns if X_train_full[cname].dtype in ['int64', 'float64']]\n",
    "\n",
    "# Keep selected columns only\n",
    "my_cols = low_cardinality_cols + numeric_cols\n",
    "X_train = X_train_full[my_cols].copy()\n",
    "X_valid = X_valid_full[my_cols].copy()\n",
    "X_test = X_test_full[my_cols].copy()\n",
    "\n",
    "# One-hot encode the data (to shorten the code, we use pandas)\n",
    "X_train = pd.get_dummies(X_train)\n",
    "X_valid = pd.get_dummies(X_valid)\n",
    "X_test = pd.get_dummies(X_test)\n",
    "X_train, X_valid = X_train.align(X_valid, join='left', axis=1)\n",
    "X_train, X_test = X_train.align(X_test, join='left', axis=1)"
   ]
  },
  {
   "cell_type": "markdown",
   "id": "c50401b5",
   "metadata": {
    "papermill": {
     "duration": 0.007002,
     "end_time": "2023-07-14T10:29:24.283778",
     "exception": false,
     "start_time": "2023-07-14T10:29:24.276776",
     "status": "completed"
    },
    "tags": []
   },
   "source": [
    "# Step 1: Build model\n",
    "\n",
    "### Part A\n",
    "\n",
    "In this step, you'll build and train your first model with gradient boosting.\n",
    "\n",
    "- Begin by setting `my_model_1` to an XGBoost model.  Use the [XGBRegressor](https://xgboost.readthedocs.io/en/latest/python/python_api.html#xgboost.XGBRegressor) class, and set the random seed to 0 (`random_state=0`).  **Leave all other parameters as default.**\n",
    "- Then, fit the model to the training data in `X_train` and `y_train`."
   ]
  },
  {
   "cell_type": "code",
   "execution_count": 3,
   "id": "73438408",
   "metadata": {
    "execution": {
     "iopub.execute_input": "2023-07-14T10:29:24.300450Z",
     "iopub.status.busy": "2023-07-14T10:29:24.300044Z",
     "iopub.status.idle": "2023-07-14T10:29:24.305423Z",
     "shell.execute_reply": "2023-07-14T10:29:24.304095Z"
    },
    "papermill": {
     "duration": 0.016798,
     "end_time": "2023-07-14T10:29:24.307899",
     "exception": false,
     "start_time": "2023-07-14T10:29:24.291101",
     "status": "completed"
    },
    "tags": []
   },
   "outputs": [],
   "source": [
    "from xgboost import XGBRegressor\n",
    "\n",
    "# Define the model\n",
    "my_model_1 = XGBRegressor(random_state=0)\n",
    "\n"
   ]
  },
  {
   "cell_type": "code",
   "execution_count": 4,
   "id": "c7750f24",
   "metadata": {
    "execution": {
     "iopub.execute_input": "2023-07-14T10:29:24.324535Z",
     "iopub.status.busy": "2023-07-14T10:29:24.324150Z",
     "iopub.status.idle": "2023-07-14T10:29:25.207327Z",
     "shell.execute_reply": "2023-07-14T10:29:25.205965Z"
    },
    "papermill": {
     "duration": 0.89518,
     "end_time": "2023-07-14T10:29:25.210403",
     "exception": false,
     "start_time": "2023-07-14T10:29:24.315223",
     "status": "completed"
    },
    "tags": []
   },
   "outputs": [
    {
     "data": {
      "application/javascript": [
       "parent.postMessage({\"jupyterEvent\": \"custom.exercise_interaction\", \"data\": {\"outcomeType\": 1, \"valueTowardsCompletion\": 0.5, \"interactionType\": 1, \"questionType\": 2, \"questionId\": \"1.1_Model1A\", \"learnToolsVersion\": \"0.3.4\", \"failureMessage\": \"\", \"exceptionClass\": \"\", \"trace\": \"\"}}, \"*\")"
      ],
      "text/plain": [
       "<IPython.core.display.Javascript object>"
      ]
     },
     "metadata": {},
     "output_type": "display_data"
    },
    {
     "data": {
      "text/markdown": [
       "<span style=\"color:#33cc33\">Correct</span>"
      ],
      "text/plain": [
       "Correct"
      ]
     },
     "metadata": {},
     "output_type": "display_data"
    }
   ],
   "source": [
    "# Your code here\n",
    "\n",
    "# Fit the model\n",
    "my_model_1.fit(X_train,y_train) # Your code here\n",
    "\n",
    "# Check your answer\n",
    "step_1.a.check()"
   ]
  },
  {
   "cell_type": "code",
   "execution_count": 5,
   "id": "b3c8e253",
   "metadata": {
    "execution": {
     "iopub.execute_input": "2023-07-14T10:29:25.228922Z",
     "iopub.status.busy": "2023-07-14T10:29:25.228492Z",
     "iopub.status.idle": "2023-07-14T10:29:25.233443Z",
     "shell.execute_reply": "2023-07-14T10:29:25.232341Z"
    },
    "papermill": {
     "duration": 0.017471,
     "end_time": "2023-07-14T10:29:25.236520",
     "exception": false,
     "start_time": "2023-07-14T10:29:25.219049",
     "status": "completed"
    },
    "tags": []
   },
   "outputs": [],
   "source": [
    "# Lines below will give you a hint or solution code\n",
    "#step_1.a.hint()\n",
    "#step_1.a.solution()"
   ]
  },
  {
   "cell_type": "markdown",
   "id": "7e503fa9",
   "metadata": {
    "papermill": {
     "duration": 0.007742,
     "end_time": "2023-07-14T10:29:25.252319",
     "exception": false,
     "start_time": "2023-07-14T10:29:25.244577",
     "status": "completed"
    },
    "tags": []
   },
   "source": [
    "### Part B\n",
    "\n",
    "Set `predictions_1` to the model's predictions for the validation data.  Recall that the validation features are stored in `X_valid`."
   ]
  },
  {
   "cell_type": "code",
   "execution_count": 6,
   "id": "e9fa7a1d",
   "metadata": {
    "execution": {
     "iopub.execute_input": "2023-07-14T10:29:25.270439Z",
     "iopub.status.busy": "2023-07-14T10:29:25.269962Z",
     "iopub.status.idle": "2023-07-14T10:29:25.300983Z",
     "shell.execute_reply": "2023-07-14T10:29:25.299909Z"
    },
    "papermill": {
     "duration": 0.043696,
     "end_time": "2023-07-14T10:29:25.303933",
     "exception": false,
     "start_time": "2023-07-14T10:29:25.260237",
     "status": "completed"
    },
    "tags": []
   },
   "outputs": [
    {
     "data": {
      "application/javascript": [
       "parent.postMessage({\"jupyterEvent\": \"custom.exercise_interaction\", \"data\": {\"outcomeType\": 1, \"valueTowardsCompletion\": 0.5, \"interactionType\": 1, \"questionType\": 2, \"questionId\": \"1.2_Model1B\", \"learnToolsVersion\": \"0.3.4\", \"failureMessage\": \"\", \"exceptionClass\": \"\", \"trace\": \"\"}}, \"*\")"
      ],
      "text/plain": [
       "<IPython.core.display.Javascript object>"
      ]
     },
     "metadata": {},
     "output_type": "display_data"
    },
    {
     "data": {
      "text/markdown": [
       "<span style=\"color:#33cc33\">Correct</span>"
      ],
      "text/plain": [
       "Correct"
      ]
     },
     "metadata": {},
     "output_type": "display_data"
    }
   ],
   "source": [
    "from sklearn.metrics import mean_absolute_error\n",
    "\n",
    "# Get predictions\n",
    "predictions_1 = my_model_1.predict(X_valid) # Your code here\n",
    "\n",
    "# Check your answer\n",
    "step_1.b.check()"
   ]
  },
  {
   "cell_type": "code",
   "execution_count": 7,
   "id": "32e0e97d",
   "metadata": {
    "execution": {
     "iopub.execute_input": "2023-07-14T10:29:25.323231Z",
     "iopub.status.busy": "2023-07-14T10:29:25.322786Z",
     "iopub.status.idle": "2023-07-14T10:29:25.327942Z",
     "shell.execute_reply": "2023-07-14T10:29:25.326585Z"
    },
    "papermill": {
     "duration": 0.017157,
     "end_time": "2023-07-14T10:29:25.330260",
     "exception": false,
     "start_time": "2023-07-14T10:29:25.313103",
     "status": "completed"
    },
    "tags": []
   },
   "outputs": [],
   "source": [
    "# Lines below will give you a hint or solution code\n",
    "#step_1.b.hint()\n",
    "#step_1.b.solution()"
   ]
  },
  {
   "cell_type": "markdown",
   "id": "d3b86316",
   "metadata": {
    "papermill": {
     "duration": 0.007961,
     "end_time": "2023-07-14T10:29:25.346455",
     "exception": false,
     "start_time": "2023-07-14T10:29:25.338494",
     "status": "completed"
    },
    "tags": []
   },
   "source": [
    "### Part C\n",
    "\n",
    "Finally, use the `mean_absolute_error()` function to calculate the mean absolute error (MAE) corresponding to the predictions for the validation set.  Recall that the labels for the validation data are stored in `y_valid`."
   ]
  },
  {
   "cell_type": "code",
   "execution_count": 8,
   "id": "9e2cda12",
   "metadata": {
    "execution": {
     "iopub.execute_input": "2023-07-14T10:29:25.365210Z",
     "iopub.status.busy": "2023-07-14T10:29:25.364335Z",
     "iopub.status.idle": "2023-07-14T10:29:25.375175Z",
     "shell.execute_reply": "2023-07-14T10:29:25.374344Z"
    },
    "papermill": {
     "duration": 0.023104,
     "end_time": "2023-07-14T10:29:25.377523",
     "exception": false,
     "start_time": "2023-07-14T10:29:25.354419",
     "status": "completed"
    },
    "tags": []
   },
   "outputs": [
    {
     "name": "stdout",
     "output_type": "stream",
     "text": [
      "Mean Absolute Error: 17662.736729452055\n"
     ]
    },
    {
     "data": {
      "application/javascript": [
       "parent.postMessage({\"jupyterEvent\": \"custom.exercise_interaction\", \"data\": {\"outcomeType\": 1, \"valueTowardsCompletion\": 0.5, \"interactionType\": 1, \"questionType\": 2, \"questionId\": \"1.3_Model1C\", \"learnToolsVersion\": \"0.3.4\", \"failureMessage\": \"\", \"exceptionClass\": \"\", \"trace\": \"\"}}, \"*\")"
      ],
      "text/plain": [
       "<IPython.core.display.Javascript object>"
      ]
     },
     "metadata": {},
     "output_type": "display_data"
    },
    {
     "data": {
      "text/markdown": [
       "<span style=\"color:#33cc33\">Correct</span>"
      ],
      "text/plain": [
       "Correct"
      ]
     },
     "metadata": {},
     "output_type": "display_data"
    }
   ],
   "source": [
    "# Calculate MAE\n",
    "mae_1 = mean_absolute_error(predictions_1, y_valid)\n",
    "print(\"Mean Absolute Error:\" , mae_1)\n",
    "# Uncomment to print MAE\n",
    "# print(\"Mean Absolute Error:\" , mae_1)\n",
    "\n",
    "# Check your answer\n",
    "step_1.c.check()"
   ]
  },
  {
   "cell_type": "code",
   "execution_count": 9,
   "id": "91f5eb22",
   "metadata": {
    "execution": {
     "iopub.execute_input": "2023-07-14T10:29:25.397710Z",
     "iopub.status.busy": "2023-07-14T10:29:25.396674Z",
     "iopub.status.idle": "2023-07-14T10:29:25.401911Z",
     "shell.execute_reply": "2023-07-14T10:29:25.400745Z"
    },
    "papermill": {
     "duration": 0.018369,
     "end_time": "2023-07-14T10:29:25.404621",
     "exception": false,
     "start_time": "2023-07-14T10:29:25.386252",
     "status": "completed"
    },
    "tags": []
   },
   "outputs": [],
   "source": [
    "# Lines below will give you a hint or solution code\n",
    "#step_1.c.hint()\n",
    "#step_1.c.solution()"
   ]
  },
  {
   "cell_type": "markdown",
   "id": "2748a00e",
   "metadata": {
    "papermill": {
     "duration": 0.008262,
     "end_time": "2023-07-14T10:29:25.421612",
     "exception": false,
     "start_time": "2023-07-14T10:29:25.413350",
     "status": "completed"
    },
    "tags": []
   },
   "source": [
    "# Step 2: Improve the model\n",
    "\n",
    "Now that you've trained a default model as baseline, it's time to tinker with the parameters, to see if you can get better performance!\n",
    "- Begin by setting `my_model_2` to an XGBoost model, using the [XGBRegressor](https://xgboost.readthedocs.io/en/latest/python/python_api.html#xgboost.XGBRegressor) class.  Use what you learned in the previous tutorial to figure out how to change the default parameters (like `n_estimators` and `learning_rate`) to get better results.\n",
    "- Then, fit the model to the training data in `X_train` and `y_train`.\n",
    "- Set `predictions_2` to the model's predictions for the validation data.  Recall that the validation features are stored in `X_valid`.\n",
    "- Finally, use the `mean_absolute_error()` function to calculate the mean absolute error (MAE) corresponding to the predictions on the validation set.  Recall that the labels for the validation data are stored in `y_valid`.\n",
    "\n",
    "In order for this step to be marked correct, your model in `my_model_2` must attain lower MAE than the model in `my_model_1`. "
   ]
  },
  {
   "cell_type": "code",
   "execution_count": 10,
   "id": "dbcc28fc",
   "metadata": {
    "execution": {
     "iopub.execute_input": "2023-07-14T10:29:25.441331Z",
     "iopub.status.busy": "2023-07-14T10:29:25.440865Z",
     "iopub.status.idle": "2023-07-14T10:29:33.879561Z",
     "shell.execute_reply": "2023-07-14T10:29:33.878336Z"
    },
    "papermill": {
     "duration": 8.45193,
     "end_time": "2023-07-14T10:29:33.882276",
     "exception": false,
     "start_time": "2023-07-14T10:29:25.430346",
     "status": "completed"
    },
    "tags": []
   },
   "outputs": [
    {
     "name": "stdout",
     "output_type": "stream",
     "text": [
      "Mean Absolute Error: 16688.691513270547\n"
     ]
    },
    {
     "data": {
      "application/javascript": [
       "parent.postMessage({\"jupyterEvent\": \"custom.exercise_interaction\", \"data\": {\"outcomeType\": 1, \"valueTowardsCompletion\": 0.5, \"interactionType\": 1, \"questionType\": 2, \"questionId\": \"2_Model2\", \"learnToolsVersion\": \"0.3.4\", \"failureMessage\": \"\", \"exceptionClass\": \"\", \"trace\": \"\"}}, \"*\")"
      ],
      "text/plain": [
       "<IPython.core.display.Javascript object>"
      ]
     },
     "metadata": {},
     "output_type": "display_data"
    },
    {
     "data": {
      "text/markdown": [
       "<span style=\"color:#33cc33\">Correct</span>"
      ],
      "text/plain": [
       "Correct"
      ]
     },
     "metadata": {},
     "output_type": "display_data"
    }
   ],
   "source": [
    "# Define the model\n",
    "my_model_2 = XGBRegressor(n_estimators=1000, learning_rate=0.05)\n",
    "\n",
    "# Fit the model\n",
    "my_model_2.fit(X_train, y_train)\n",
    "\n",
    "# Get predictions\n",
    "predictions_2 = my_model_2.predict(X_valid)\n",
    "\n",
    "# Calculate MAE\n",
    "mae_2 = mean_absolute_error(predictions_2, y_valid)\n",
    "print(\"Mean Absolute Error:\" , mae_2)\n",
    "\n",
    "# Check your answer\n",
    "step_2.check()"
   ]
  },
  {
   "cell_type": "code",
   "execution_count": 11,
   "id": "e48c5489",
   "metadata": {
    "execution": {
     "iopub.execute_input": "2023-07-14T10:29:33.903429Z",
     "iopub.status.busy": "2023-07-14T10:29:33.902987Z",
     "iopub.status.idle": "2023-07-14T10:29:33.908146Z",
     "shell.execute_reply": "2023-07-14T10:29:33.906828Z"
    },
    "papermill": {
     "duration": 0.018555,
     "end_time": "2023-07-14T10:29:33.910440",
     "exception": false,
     "start_time": "2023-07-14T10:29:33.891885",
     "status": "completed"
    },
    "tags": []
   },
   "outputs": [],
   "source": [
    "# Lines below will give you a hint or solution code\n",
    "#step_2.hint()\n",
    "#step_2.solution()"
   ]
  },
  {
   "cell_type": "markdown",
   "id": "09ec8706",
   "metadata": {
    "papermill": {
     "duration": 0.008871,
     "end_time": "2023-07-14T10:29:33.929041",
     "exception": false,
     "start_time": "2023-07-14T10:29:33.920170",
     "status": "completed"
    },
    "tags": []
   },
   "source": [
    "# Step 3: Break the model\n",
    "\n",
    "In this step, you will create a model that performs worse than the original model in Step 1.  This will help you to develop your intuition for how to set parameters.  You might even find that you accidentally get better performance, which is ultimately a nice problem to have and a valuable learning experience!\n",
    "- Begin by setting `my_model_3` to an XGBoost model, using the [XGBRegressor](https://xgboost.readthedocs.io/en/latest/python/python_api.html#xgboost.XGBRegressor) class.  Use what you learned in the previous tutorial to figure out how to change the default parameters (like `n_estimators` and `learning_rate`) to design a model to get high MAE.\n",
    "- Then, fit the model to the training data in `X_train` and `y_train`.\n",
    "- Set `predictions_3` to the model's predictions for the validation data.  Recall that the validation features are stored in `X_valid`.\n",
    "- Finally, use the `mean_absolute_error()` function to calculate the mean absolute error (MAE) corresponding to the predictions on the validation set.  Recall that the labels for the validation data are stored in `y_valid`.\n",
    "\n",
    "In order for this step to be marked correct, your model in `my_model_3` must attain higher MAE than the model in `my_model_1`. "
   ]
  },
  {
   "cell_type": "code",
   "execution_count": 12,
   "id": "04c80022",
   "metadata": {
    "execution": {
     "iopub.execute_input": "2023-07-14T10:29:33.949496Z",
     "iopub.status.busy": "2023-07-14T10:29:33.948721Z",
     "iopub.status.idle": "2023-07-14T10:29:34.013750Z",
     "shell.execute_reply": "2023-07-14T10:29:34.012432Z"
    },
    "papermill": {
     "duration": 0.078176,
     "end_time": "2023-07-14T10:29:34.016331",
     "exception": false,
     "start_time": "2023-07-14T10:29:33.938155",
     "status": "completed"
    },
    "tags": []
   },
   "outputs": [
    {
     "name": "stdout",
     "output_type": "stream",
     "text": [
      "Mean Absolute Error: 127895.0828807256\n"
     ]
    },
    {
     "data": {
      "application/javascript": [
       "parent.postMessage({\"jupyterEvent\": \"custom.exercise_interaction\", \"data\": {\"outcomeType\": 1, \"valueTowardsCompletion\": 0.5, \"interactionType\": 1, \"questionType\": 2, \"questionId\": \"3_Model3\", \"learnToolsVersion\": \"0.3.4\", \"failureMessage\": \"\", \"exceptionClass\": \"\", \"trace\": \"\"}}, \"*\")"
      ],
      "text/plain": [
       "<IPython.core.display.Javascript object>"
      ]
     },
     "metadata": {},
     "output_type": "display_data"
    },
    {
     "data": {
      "text/markdown": [
       "<span style=\"color:#33cc33\">Correct</span>"
      ],
      "text/plain": [
       "Correct"
      ]
     },
     "metadata": {},
     "output_type": "display_data"
    }
   ],
   "source": [
    "# Define the model\n",
    "my_model_3 = XGBRegressor(n_estimators=1)\n",
    "\n",
    "# Fit the model\n",
    "my_model_3.fit(X_train, y_train)\n",
    "\n",
    "# Get predictions\n",
    "predictions_3 = my_model_3.predict(X_valid)\n",
    "\n",
    "# Calculate MAE\n",
    "mae_3 = mean_absolute_error(predictions_3, y_valid)\n",
    "print(\"Mean Absolute Error:\" , mae_3)\n",
    "# Check your answer\n",
    "step_3.check()"
   ]
  },
  {
   "cell_type": "code",
   "execution_count": 13,
   "id": "e35346b3",
   "metadata": {
    "execution": {
     "iopub.execute_input": "2023-07-14T10:29:34.038129Z",
     "iopub.status.busy": "2023-07-14T10:29:34.037651Z",
     "iopub.status.idle": "2023-07-14T10:29:34.042749Z",
     "shell.execute_reply": "2023-07-14T10:29:34.041491Z"
    },
    "papermill": {
     "duration": 0.018794,
     "end_time": "2023-07-14T10:29:34.045394",
     "exception": false,
     "start_time": "2023-07-14T10:29:34.026600",
     "status": "completed"
    },
    "tags": []
   },
   "outputs": [],
   "source": [
    "# Lines below will give you a hint or solution code\n",
    "#step_3.hint()\n",
    "#step_3.solution()"
   ]
  },
  {
   "cell_type": "markdown",
   "id": "883de947",
   "metadata": {
    "papermill": {
     "duration": 0.009101,
     "end_time": "2023-07-14T10:29:34.064110",
     "exception": false,
     "start_time": "2023-07-14T10:29:34.055009",
     "status": "completed"
    },
    "tags": []
   },
   "source": [
    "# Keep going\n",
    "\n",
    "Continue to learn about **[data leakage](https://www.kaggle.com/alexisbcook/data-leakage)**.  This is an important issue for a data scientist to understand, and it has the potential to ruin your models in subtle and dangerous ways!"
   ]
  },
  {
   "cell_type": "markdown",
   "id": "211c0817",
   "metadata": {
    "papermill": {
     "duration": 0.009462,
     "end_time": "2023-07-14T10:29:34.083085",
     "exception": false,
     "start_time": "2023-07-14T10:29:34.073623",
     "status": "completed"
    },
    "tags": []
   },
   "source": [
    "---\n",
    "\n",
    "\n",
    "\n",
    "\n",
    "*Have questions or comments? Visit the [course discussion forum](https://www.kaggle.com/learn/intermediate-machine-learning/discussion) to chat with other learners.*"
   ]
  }
 ],
 "metadata": {
  "kernelspec": {
   "display_name": "Python 3",
   "language": "python",
   "name": "python3"
  },
  "language_info": {
   "codemirror_mode": {
    "name": "ipython",
    "version": 3
   },
   "file_extension": ".py",
   "mimetype": "text/x-python",
   "name": "python",
   "nbconvert_exporter": "python",
   "pygments_lexer": "ipython3",
   "version": "3.10.12"
  },
  "papermill": {
   "default_parameters": {},
   "duration": 25.642403,
   "end_time": "2023-07-14T10:29:35.418120",
   "environment_variables": {},
   "exception": null,
   "input_path": "__notebook__.ipynb",
   "output_path": "__notebook__.ipynb",
   "parameters": {},
   "start_time": "2023-07-14T10:29:09.775717",
   "version": "2.4.0"
  }
 },
 "nbformat": 4,
 "nbformat_minor": 5
}
