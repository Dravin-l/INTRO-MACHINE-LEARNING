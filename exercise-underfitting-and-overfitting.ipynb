{
 "cells": [
  {
   "cell_type": "markdown",
   "id": "c505883e",
   "metadata": {
    "papermill": {
     "duration": 0.004365,
     "end_time": "2023-07-13T17:09:18.829652",
     "exception": false,
     "start_time": "2023-07-13T17:09:18.825287",
     "status": "completed"
    },
    "tags": []
   },
   "source": [
    "**This notebook is an exercise in the [Introduction to Machine Learning](https://www.kaggle.com/learn/intro-to-machine-learning) course.  You can reference the tutorial at [this link](https://www.kaggle.com/dansbecker/underfitting-and-overfitting).**\n",
    "\n",
    "---\n"
   ]
  },
  {
   "cell_type": "markdown",
   "id": "726fea32",
   "metadata": {
    "papermill": {
     "duration": 0.003538,
     "end_time": "2023-07-13T17:09:18.837233",
     "exception": false,
     "start_time": "2023-07-13T17:09:18.833695",
     "status": "completed"
    },
    "tags": []
   },
   "source": [
    "## Recap\n",
    "You've built your first model, and now it's time to optimize the size of the tree to make better predictions. Run this cell to set up your coding environment where the previous step left off."
   ]
  },
  {
   "cell_type": "code",
   "execution_count": 1,
   "id": "99491d00",
   "metadata": {
    "execution": {
     "iopub.execute_input": "2023-07-13T17:09:18.846722Z",
     "iopub.status.busy": "2023-07-13T17:09:18.846146Z",
     "iopub.status.idle": "2023-07-13T17:09:20.177450Z",
     "shell.execute_reply": "2023-07-13T17:09:20.175589Z"
    },
    "papermill": {
     "duration": 1.338534,
     "end_time": "2023-07-13T17:09:20.179779",
     "exception": false,
     "start_time": "2023-07-13T17:09:18.841245",
     "status": "completed"
    },
    "tags": []
   },
   "outputs": [
    {
     "name": "stderr",
     "output_type": "stream",
     "text": [
      "/opt/conda/lib/python3.10/site-packages/scipy/__init__.py:146: UserWarning: A NumPy version >=1.16.5 and <1.23.0 is required for this version of SciPy (detected version 1.23.5\n",
      "  warnings.warn(f\"A NumPy version >={np_minversion} and <{np_maxversion}\"\n"
     ]
    },
    {
     "name": "stdout",
     "output_type": "stream",
     "text": [
      "Validation MAE: 29,653\n",
      "\n",
      "Setup complete\n"
     ]
    }
   ],
   "source": [
    "# Code you have previously used to load data\n",
    "import pandas as pd\n",
    "from sklearn.metrics import mean_absolute_error\n",
    "from sklearn.model_selection import train_test_split\n",
    "from sklearn.tree import DecisionTreeRegressor\n",
    "\n",
    "\n",
    "# Path of the file to read\n",
    "iowa_file_path = '../input/home-data-for-ml-course/train.csv'\n",
    "\n",
    "home_data = pd.read_csv(iowa_file_path)\n",
    "# Create target object and call it y\n",
    "y = home_data.SalePrice\n",
    "# Create X\n",
    "features = ['LotArea', 'YearBuilt', '1stFlrSF', '2ndFlrSF', 'FullBath', 'BedroomAbvGr', 'TotRmsAbvGrd']\n",
    "X = home_data[features]\n",
    "\n",
    "# Split into validation and training data\n",
    "train_X, val_X, train_y, val_y = train_test_split(X, y, random_state=1)\n",
    "\n",
    "# Specify Model\n",
    "iowa_model = DecisionTreeRegressor(random_state=1)\n",
    "# Fit Model\n",
    "iowa_model.fit(train_X, train_y)\n",
    "\n",
    "# Make validation predictions and calculate mean absolute error\n",
    "val_predictions = iowa_model.predict(val_X)\n",
    "val_mae = mean_absolute_error(val_predictions, val_y)\n",
    "print(\"Validation MAE: {:,.0f}\".format(val_mae))\n",
    "\n",
    "# Set up code checking\n",
    "from learntools.core import binder\n",
    "binder.bind(globals())\n",
    "from learntools.machine_learning.ex5 import *\n",
    "print(\"\\nSetup complete\")"
   ]
  },
  {
   "cell_type": "markdown",
   "id": "68eb875b",
   "metadata": {
    "papermill": {
     "duration": 0.003937,
     "end_time": "2023-07-13T17:09:20.188071",
     "exception": false,
     "start_time": "2023-07-13T17:09:20.184134",
     "status": "completed"
    },
    "tags": []
   },
   "source": [
    "# Exercises\n",
    "You could write the function `get_mae` yourself. For now, we'll supply it. This is the same function you read about in the previous lesson. Just run the cell below."
   ]
  },
  {
   "cell_type": "code",
   "execution_count": 2,
   "id": "e47ac4ed",
   "metadata": {
    "execution": {
     "iopub.execute_input": "2023-07-13T17:09:20.197248Z",
     "iopub.status.busy": "2023-07-13T17:09:20.196953Z",
     "iopub.status.idle": "2023-07-13T17:09:20.201517Z",
     "shell.execute_reply": "2023-07-13T17:09:20.200894Z"
    },
    "papermill": {
     "duration": 0.011296,
     "end_time": "2023-07-13T17:09:20.203186",
     "exception": false,
     "start_time": "2023-07-13T17:09:20.191890",
     "status": "completed"
    },
    "tags": []
   },
   "outputs": [],
   "source": [
    "def get_mae(max_leaf_nodes, train_X, val_X, train_y, val_y):\n",
    "    model = DecisionTreeRegressor(max_leaf_nodes=max_leaf_nodes, random_state=0)\n",
    "    model.fit(train_X, train_y)\n",
    "    preds_val = model.predict(val_X)\n",
    "    mae = mean_absolute_error(val_y, preds_val)\n",
    "    return(mae)"
   ]
  },
  {
   "cell_type": "markdown",
   "id": "d4351367",
   "metadata": {
    "papermill": {
     "duration": 0.003594,
     "end_time": "2023-07-13T17:09:20.210639",
     "exception": false,
     "start_time": "2023-07-13T17:09:20.207045",
     "status": "completed"
    },
    "tags": []
   },
   "source": [
    "## Step 1: Compare Different Tree Sizes\n",
    "Write a loop that tries the following values for *max_leaf_nodes* from a set of possible values.\n",
    "\n",
    "Call the *get_mae* function on each value of max_leaf_nodes. Store the output in some way that allows you to select the value of `max_leaf_nodes` that gives the most accurate model on your data."
   ]
  },
  {
   "cell_type": "code",
   "execution_count": 3,
   "id": "8b3bb795",
   "metadata": {
    "execution": {
     "iopub.execute_input": "2023-07-13T17:09:20.220042Z",
     "iopub.status.busy": "2023-07-13T17:09:20.219291Z",
     "iopub.status.idle": "2023-07-13T17:09:20.265166Z",
     "shell.execute_reply": "2023-07-13T17:09:20.263996Z"
    },
    "papermill": {
     "duration": 0.052771,
     "end_time": "2023-07-13T17:09:20.267358",
     "exception": false,
     "start_time": "2023-07-13T17:09:20.214587",
     "status": "completed"
    },
    "tags": []
   },
   "outputs": [
    {
     "data": {
      "application/javascript": [
       "parent.postMessage({\"jupyterEvent\": \"custom.exercise_interaction\", \"data\": {\"outcomeType\": 1, \"valueTowardsCompletion\": 0.5, \"interactionType\": 1, \"questionType\": 1, \"questionId\": \"1_BestTreeSize\", \"learnToolsVersion\": \"0.3.4\", \"failureMessage\": \"\", \"exceptionClass\": \"\", \"trace\": \"\"}}, \"*\")"
      ],
      "text/plain": [
       "<IPython.core.display.Javascript object>"
      ]
     },
     "metadata": {},
     "output_type": "display_data"
    },
    {
     "data": {
      "text/markdown": [
       "<span style=\"color:#33cc33\">Correct</span>"
      ],
      "text/plain": [
       "Correct"
      ]
     },
     "metadata": {},
     "output_type": "display_data"
    }
   ],
   "source": [
    "candidate_max_leaf_nodes = [5, 25, 50, 100, 250, 500]\n",
    "# Write loop to find the ideal tree size from candidate_max_leaf_nodes\n",
    "scores = {leaf_size: get_mae(leaf_size, train_X, val_X, train_y, val_y) for leaf_size in candidate_max_leaf_nodes}\n",
    "best_tree_size = min(scores, key=scores.get)\n",
    "# Store the best value of max_leaf_nodes (it will be either 5, 25, 50, 100, 250 or 500)\n",
    "\n",
    "# Check your answer\n",
    "step_1.check()"
   ]
  },
  {
   "cell_type": "code",
   "execution_count": 4,
   "id": "1a030dc3",
   "metadata": {
    "execution": {
     "iopub.execute_input": "2023-07-13T17:09:20.277112Z",
     "iopub.status.busy": "2023-07-13T17:09:20.276815Z",
     "iopub.status.idle": "2023-07-13T17:09:20.280093Z",
     "shell.execute_reply": "2023-07-13T17:09:20.279216Z"
    },
    "papermill": {
     "duration": 0.010715,
     "end_time": "2023-07-13T17:09:20.282162",
     "exception": false,
     "start_time": "2023-07-13T17:09:20.271447",
     "status": "completed"
    },
    "tags": []
   },
   "outputs": [],
   "source": [
    "# The lines below will show you a hint or the solution.\n",
    "# step_1.hint() \n",
    "# step_1.solution()"
   ]
  },
  {
   "cell_type": "markdown",
   "id": "4af45a53",
   "metadata": {
    "papermill": {
     "duration": 0.004101,
     "end_time": "2023-07-13T17:09:20.291817",
     "exception": false,
     "start_time": "2023-07-13T17:09:20.287716",
     "status": "completed"
    },
    "tags": []
   },
   "source": [
    "## Step 2: Fit Model Using All Data\n",
    "You know the best tree size. If you were going to deploy this model in practice, you would make it even more accurate by using all of the data and keeping that tree size.  That is, you don't need to hold out the validation data now that you've made all your modeling decisions."
   ]
  },
  {
   "cell_type": "code",
   "execution_count": 5,
   "id": "7b9654ed",
   "metadata": {
    "execution": {
     "iopub.execute_input": "2023-07-13T17:09:20.301589Z",
     "iopub.status.busy": "2023-07-13T17:09:20.301347Z",
     "iopub.status.idle": "2023-07-13T17:09:20.314953Z",
     "shell.execute_reply": "2023-07-13T17:09:20.314268Z"
    },
    "papermill": {
     "duration": 0.020381,
     "end_time": "2023-07-13T17:09:20.316658",
     "exception": false,
     "start_time": "2023-07-13T17:09:20.296277",
     "status": "completed"
    },
    "tags": []
   },
   "outputs": [
    {
     "data": {
      "application/javascript": [
       "parent.postMessage({\"jupyterEvent\": \"custom.exercise_interaction\", \"data\": {\"outcomeType\": 1, \"valueTowardsCompletion\": 0.5, \"interactionType\": 1, \"questionType\": 2, \"questionId\": \"2_FitModelWithAllData\", \"learnToolsVersion\": \"0.3.4\", \"failureMessage\": \"\", \"exceptionClass\": \"\", \"trace\": \"\"}}, \"*\")"
      ],
      "text/plain": [
       "<IPython.core.display.Javascript object>"
      ]
     },
     "metadata": {},
     "output_type": "display_data"
    },
    {
     "data": {
      "text/markdown": [
       "<span style=\"color:#33cc33\">Correct</span>"
      ],
      "text/plain": [
       "Correct"
      ]
     },
     "metadata": {},
     "output_type": "display_data"
    }
   ],
   "source": [
    "# Fill in argument to make optimal size and uncomment\n",
    "final_model = DecisionTreeRegressor(max_leaf_nodes=100,random_state=1)\n",
    "\n",
    "# fit the final model and uncomment the next two lines\n",
    "final_model.fit(X, y)\n",
    "\n",
    "# Check your answer\n",
    "step_2.check()"
   ]
  },
  {
   "cell_type": "code",
   "execution_count": 6,
   "id": "0650a8be",
   "metadata": {
    "execution": {
     "iopub.execute_input": "2023-07-13T17:09:20.327019Z",
     "iopub.status.busy": "2023-07-13T17:09:20.326387Z",
     "iopub.status.idle": "2023-07-13T17:09:20.330089Z",
     "shell.execute_reply": "2023-07-13T17:09:20.329330Z"
    },
    "papermill": {
     "duration": 0.010818,
     "end_time": "2023-07-13T17:09:20.331966",
     "exception": false,
     "start_time": "2023-07-13T17:09:20.321148",
     "status": "completed"
    },
    "tags": []
   },
   "outputs": [],
   "source": [
    "# step_2.hint()\n",
    "# step_2.solution()"
   ]
  },
  {
   "cell_type": "markdown",
   "id": "4320295e",
   "metadata": {
    "papermill": {
     "duration": 0.004366,
     "end_time": "2023-07-13T17:09:20.341081",
     "exception": false,
     "start_time": "2023-07-13T17:09:20.336715",
     "status": "completed"
    },
    "tags": []
   },
   "source": [
    "You've tuned this model and improved your results. But we are still using Decision Tree models, which are not very sophisticated by modern machine learning standards. In the next step you will learn to use Random Forests to improve your models even more.\n",
    "\n",
    "# Keep Going\n",
    "\n",
    "You are ready for **[Random Forests](https://www.kaggle.com/dansbecker/random-forests).**\n"
   ]
  },
  {
   "cell_type": "markdown",
   "id": "a82c6d84",
   "metadata": {
    "papermill": {
     "duration": 0.004072,
     "end_time": "2023-07-13T17:09:20.349700",
     "exception": false,
     "start_time": "2023-07-13T17:09:20.345628",
     "status": "completed"
    },
    "tags": []
   },
   "source": [
    "---\n",
    "\n",
    "\n",
    "\n",
    "\n",
    "*Have questions or comments? Visit the [course discussion forum](https://www.kaggle.com/learn/intro-to-machine-learning/discussion) to chat with other learners.*"
   ]
  }
 ],
 "metadata": {
  "kernelspec": {
   "display_name": "Python 3",
   "language": "python",
   "name": "python3"
  },
  "language_info": {
   "codemirror_mode": {
    "name": "ipython",
    "version": 3
   },
   "file_extension": ".py",
   "mimetype": "text/x-python",
   "name": "python",
   "nbconvert_exporter": "python",
   "pygments_lexer": "ipython3",
   "version": "3.10.12"
  },
  "papermill": {
   "default_parameters": {},
   "duration": 11.757318,
   "end_time": "2023-07-13T17:09:21.073375",
   "environment_variables": {},
   "exception": null,
   "input_path": "__notebook__.ipynb",
   "output_path": "__notebook__.ipynb",
   "parameters": {},
   "start_time": "2023-07-13T17:09:09.316057",
   "version": "2.4.0"
  }
 },
 "nbformat": 4,
 "nbformat_minor": 5
}
