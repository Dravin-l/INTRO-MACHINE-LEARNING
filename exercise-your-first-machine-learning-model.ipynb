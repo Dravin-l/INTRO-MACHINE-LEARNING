{
 "cells": [
  {
   "cell_type": "markdown",
   "id": "2c18ba74",
   "metadata": {
    "papermill": {
     "duration": 0.004856,
     "end_time": "2023-07-13T16:35:49.244052",
     "exception": false,
     "start_time": "2023-07-13T16:35:49.239196",
     "status": "completed"
    },
    "tags": []
   },
   "source": [
    "**This notebook is an exercise in the [Introduction to Machine Learning](https://www.kaggle.com/learn/intro-to-machine-learning) course.  You can reference the tutorial at [this link](https://www.kaggle.com/dansbecker/your-first-machine-learning-model).**\n",
    "\n",
    "---\n"
   ]
  },
  {
   "cell_type": "markdown",
   "id": "9ec34f4d",
   "metadata": {
    "papermill": {
     "duration": 0.003963,
     "end_time": "2023-07-13T16:35:49.252327",
     "exception": false,
     "start_time": "2023-07-13T16:35:49.248364",
     "status": "completed"
    },
    "tags": []
   },
   "source": [
    "## Recap\n",
    "So far, you have loaded your data and reviewed it with the following code. Run this cell to set up your coding environment where the previous step left off."
   ]
  },
  {
   "cell_type": "code",
   "execution_count": 1,
   "id": "a9b7eab6",
   "metadata": {
    "execution": {
     "iopub.execute_input": "2023-07-13T16:35:49.262340Z",
     "iopub.status.busy": "2023-07-13T16:35:49.261957Z",
     "iopub.status.idle": "2023-07-13T16:35:50.883709Z",
     "shell.execute_reply": "2023-07-13T16:35:50.882324Z"
    },
    "papermill": {
     "duration": 1.629005,
     "end_time": "2023-07-13T16:35:50.885502",
     "exception": false,
     "start_time": "2023-07-13T16:35:49.256497",
     "status": "completed"
    },
    "tags": []
   },
   "outputs": [
    {
     "name": "stderr",
     "output_type": "stream",
     "text": [
      "/opt/conda/lib/python3.10/site-packages/scipy/__init__.py:146: UserWarning: A NumPy version >=1.16.5 and <1.23.0 is required for this version of SciPy (detected version 1.23.5\n",
      "  warnings.warn(f\"A NumPy version >={np_minversion} and <{np_maxversion}\"\n"
     ]
    },
    {
     "name": "stdout",
     "output_type": "stream",
     "text": [
      "Setup Complete\n"
     ]
    }
   ],
   "source": [
    "# Code you have previously used to load data\n",
    "import pandas as pd\n",
    "\n",
    "# Path of the file to read\n",
    "iowa_file_path = '../input/home-data-for-ml-course/train.csv'\n",
    "\n",
    "home_data = pd.read_csv(iowa_file_path)\n",
    "\n",
    "# Set up code checking\n",
    "from learntools.core import binder\n",
    "binder.bind(globals())\n",
    "from learntools.machine_learning.ex3 import *\n",
    "\n",
    "print(\"Setup Complete\")"
   ]
  },
  {
   "cell_type": "markdown",
   "id": "ed35b6db",
   "metadata": {
    "papermill": {
     "duration": 0.004272,
     "end_time": "2023-07-13T16:35:50.894517",
     "exception": false,
     "start_time": "2023-07-13T16:35:50.890245",
     "status": "completed"
    },
    "tags": []
   },
   "source": [
    "# Exercises\n",
    "\n",
    "## Step 1: Specify Prediction Target\n",
    "Select the target variable, which corresponds to the sales price. Save this to a new variable called `y`. You'll need to print a list of the columns to find the name of the column you need.\n"
   ]
  },
  {
   "cell_type": "markdown",
   "id": "9e5924de",
   "metadata": {
    "execution": {
     "iopub.execute_input": "2023-07-13T16:27:07.951138Z",
     "iopub.status.busy": "2023-07-13T16:27:07.950177Z",
     "iopub.status.idle": "2023-07-13T16:27:07.959787Z",
     "shell.execute_reply": "2023-07-13T16:27:07.958811Z",
     "shell.execute_reply.started": "2023-07-13T16:27:07.951098Z"
    },
    "papermill": {
     "duration": 0.003968,
     "end_time": "2023-07-13T16:35:50.902750",
     "exception": false,
     "start_time": "2023-07-13T16:35:50.898782",
     "status": "completed"
    },
    "tags": []
   },
   "source": [
    "# print the list of columns in the dataset to find the name of the prediction target\n",
    "home_data.columns"
   ]
  },
  {
   "cell_type": "code",
   "execution_count": 2,
   "id": "c62e2e83",
   "metadata": {
    "execution": {
     "iopub.execute_input": "2023-07-13T16:35:50.914025Z",
     "iopub.status.busy": "2023-07-13T16:35:50.913710Z",
     "iopub.status.idle": "2023-07-13T16:35:50.929794Z",
     "shell.execute_reply": "2023-07-13T16:35:50.928280Z"
    },
    "papermill": {
     "duration": 0.024803,
     "end_time": "2023-07-13T16:35:50.931794",
     "exception": false,
     "start_time": "2023-07-13T16:35:50.906991",
     "status": "completed"
    },
    "tags": []
   },
   "outputs": [
    {
     "data": {
      "application/javascript": [
       "parent.postMessage({\"jupyterEvent\": \"custom.exercise_interaction\", \"data\": {\"outcomeType\": 1, \"valueTowardsCompletion\": 0.25, \"interactionType\": 1, \"questionType\": 2, \"questionId\": \"1_SetTarget\", \"learnToolsVersion\": \"0.3.4\", \"failureMessage\": \"\", \"exceptionClass\": \"\", \"trace\": \"\"}}, \"*\")"
      ],
      "text/plain": [
       "<IPython.core.display.Javascript object>"
      ]
     },
     "metadata": {},
     "output_type": "display_data"
    },
    {
     "data": {
      "text/markdown": [
       "<span style=\"color:#33cc33\">Correct</span>"
      ],
      "text/plain": [
       "Correct"
      ]
     },
     "metadata": {},
     "output_type": "display_data"
    }
   ],
   "source": [
    "y = home_data['SalePrice']\n",
    "\n",
    "# Check your answer\n",
    "step_1.check()"
   ]
  },
  {
   "cell_type": "code",
   "execution_count": 3,
   "id": "524868c4",
   "metadata": {
    "execution": {
     "iopub.execute_input": "2023-07-13T16:35:50.943243Z",
     "iopub.status.busy": "2023-07-13T16:35:50.942879Z",
     "iopub.status.idle": "2023-07-13T16:35:50.947187Z",
     "shell.execute_reply": "2023-07-13T16:35:50.946125Z"
    },
    "papermill": {
     "duration": 0.012419,
     "end_time": "2023-07-13T16:35:50.949170",
     "exception": false,
     "start_time": "2023-07-13T16:35:50.936751",
     "status": "completed"
    },
    "tags": []
   },
   "outputs": [],
   "source": [
    "# The lines below will show you a hint or the solution.\n",
    "# step_1.hint() \n",
    "# step_1.solution()"
   ]
  },
  {
   "cell_type": "markdown",
   "id": "2777b40d",
   "metadata": {
    "papermill": {
     "duration": 0.004354,
     "end_time": "2023-07-13T16:35:50.958599",
     "exception": false,
     "start_time": "2023-07-13T16:35:50.954245",
     "status": "completed"
    },
    "tags": []
   },
   "source": [
    "## Step 2: Create X\n",
    "Now you will create a DataFrame called `X` holding the predictive features.\n",
    "\n",
    "Since you want only some columns from the original data, you'll first create a list with the names of the columns you want in `X`.\n",
    "\n",
    "You'll use just the following columns in the list (you can copy and paste the whole list to save some typing, though you'll still need to add quotes):\n",
    "  * LotArea\n",
    "  * YearBuilt\n",
    "  * 1stFlrSF\n",
    "  * 2ndFlrSF\n",
    "  * FullBath\n",
    "  * BedroomAbvGr\n",
    "  * TotRmsAbvGrd\n",
    "\n",
    "After you've created that list of features, use it to create the DataFrame that you'll use to fit the model."
   ]
  },
  {
   "cell_type": "code",
   "execution_count": 4,
   "id": "d2a01c40",
   "metadata": {
    "execution": {
     "iopub.execute_input": "2023-07-13T16:35:50.969450Z",
     "iopub.status.busy": "2023-07-13T16:35:50.969095Z",
     "iopub.status.idle": "2023-07-13T16:35:50.985420Z",
     "shell.execute_reply": "2023-07-13T16:35:50.984759Z"
    },
    "papermill": {
     "duration": 0.0241,
     "end_time": "2023-07-13T16:35:50.987263",
     "exception": false,
     "start_time": "2023-07-13T16:35:50.963163",
     "status": "completed"
    },
    "tags": []
   },
   "outputs": [
    {
     "data": {
      "application/javascript": [
       "parent.postMessage({\"jupyterEvent\": \"custom.exercise_interaction\", \"data\": {\"outcomeType\": 1, \"valueTowardsCompletion\": 0.25, \"interactionType\": 1, \"questionType\": 2, \"questionId\": \"2_SelectPredictionData\", \"learnToolsVersion\": \"0.3.4\", \"failureMessage\": \"\", \"exceptionClass\": \"\", \"trace\": \"\"}}, \"*\")"
      ],
      "text/plain": [
       "<IPython.core.display.Javascript object>"
      ]
     },
     "metadata": {},
     "output_type": "display_data"
    },
    {
     "data": {
      "text/markdown": [
       "<span style=\"color:#33cc33\">Correct</span>"
      ],
      "text/plain": [
       "Correct"
      ]
     },
     "metadata": {},
     "output_type": "display_data"
    }
   ],
   "source": [
    "# Create the list of features below\n",
    "\n",
    "feature_names = ['LotArea','YearBuilt','1stFlrSF','2ndFlrSF','FullBath','BedroomAbvGr','TotRmsAbvGrd']\n",
    "\n",
    "# Select data corresponding to features in feature_names\n",
    "X = home_data[feature_names]\n",
    "\n",
    "# Check your answer\n",
    "step_2.check()"
   ]
  },
  {
   "cell_type": "code",
   "execution_count": 5,
   "id": "8c9d69af",
   "metadata": {
    "execution": {
     "iopub.execute_input": "2023-07-13T16:35:50.998938Z",
     "iopub.status.busy": "2023-07-13T16:35:50.998323Z",
     "iopub.status.idle": "2023-07-13T16:35:51.002960Z",
     "shell.execute_reply": "2023-07-13T16:35:51.001077Z"
    },
    "papermill": {
     "duration": 0.01325,
     "end_time": "2023-07-13T16:35:51.005509",
     "exception": false,
     "start_time": "2023-07-13T16:35:50.992259",
     "status": "completed"
    },
    "tags": []
   },
   "outputs": [],
   "source": [
    "# step_2.hint()\n",
    "# step_2.solution()"
   ]
  },
  {
   "cell_type": "markdown",
   "id": "734491b8",
   "metadata": {
    "papermill": {
     "duration": 0.004543,
     "end_time": "2023-07-13T16:35:51.015377",
     "exception": false,
     "start_time": "2023-07-13T16:35:51.010834",
     "status": "completed"
    },
    "tags": []
   },
   "source": [
    "## Review Data\n",
    "Before building a model, take a quick look at **X** to verify it looks sensible"
   ]
  },
  {
   "cell_type": "code",
   "execution_count": 6,
   "id": "3c167cfb",
   "metadata": {
    "execution": {
     "iopub.execute_input": "2023-07-13T16:35:51.026659Z",
     "iopub.status.busy": "2023-07-13T16:35:51.026302Z",
     "iopub.status.idle": "2023-07-13T16:35:51.031136Z",
     "shell.execute_reply": "2023-07-13T16:35:51.030096Z"
    },
    "papermill": {
     "duration": 0.012823,
     "end_time": "2023-07-13T16:35:51.032966",
     "exception": false,
     "start_time": "2023-07-13T16:35:51.020143",
     "status": "completed"
    },
    "tags": []
   },
   "outputs": [
    {
     "name": "stdout",
     "output_type": "stream",
     "text": [
      "\n",
      "\n"
     ]
    }
   ],
   "source": [
    "# Review data\n",
    "# print description or statistics from X\n",
    "print(_)\n",
    "\n",
    "# print the top few lines\n",
    "print(_)"
   ]
  },
  {
   "cell_type": "markdown",
   "id": "09276745",
   "metadata": {
    "papermill": {
     "duration": 0.004986,
     "end_time": "2023-07-13T16:35:51.043647",
     "exception": false,
     "start_time": "2023-07-13T16:35:51.038661",
     "status": "completed"
    },
    "tags": []
   },
   "source": [
    "## Step 3: Specify and Fit Model\n",
    "Create a `DecisionTreeRegressor` and save it iowa_model. Ensure you've done the relevant import from sklearn to run this command.\n",
    "\n",
    "Then fit the model you just created using the data in `X` and `y` that you saved above."
   ]
  },
  {
   "cell_type": "code",
   "execution_count": 7,
   "id": "e515caac",
   "metadata": {
    "execution": {
     "iopub.execute_input": "2023-07-13T16:35:51.056934Z",
     "iopub.status.busy": "2023-07-13T16:35:51.055868Z",
     "iopub.status.idle": "2023-07-13T16:35:51.074686Z",
     "shell.execute_reply": "2023-07-13T16:35:51.073576Z"
    },
    "papermill": {
     "duration": 0.027521,
     "end_time": "2023-07-13T16:35:51.076472",
     "exception": false,
     "start_time": "2023-07-13T16:35:51.048951",
     "status": "completed"
    },
    "tags": []
   },
   "outputs": [
    {
     "data": {
      "application/javascript": [
       "parent.postMessage({\"jupyterEvent\": \"custom.exercise_interaction\", \"data\": {\"outcomeType\": 1, \"valueTowardsCompletion\": 0.25, \"interactionType\": 1, \"questionType\": 2, \"questionId\": \"3_CreateModel\", \"learnToolsVersion\": \"0.3.4\", \"failureMessage\": \"\", \"exceptionClass\": \"\", \"trace\": \"\"}}, \"*\")"
      ],
      "text/plain": [
       "<IPython.core.display.Javascript object>"
      ]
     },
     "metadata": {},
     "output_type": "display_data"
    },
    {
     "data": {
      "text/markdown": [
       "<span style=\"color:#33cc33\">Correct</span>"
      ],
      "text/plain": [
       "Correct"
      ]
     },
     "metadata": {},
     "output_type": "display_data"
    }
   ],
   "source": [
    "from sklearn.tree import DecisionTreeRegressor\n",
    "#specify the model. \n",
    "#For model reproducibility, set a numeric value for random_state when specifying the model\n",
    "iowa_model = DecisionTreeRegressor(random_state=1)\n",
    "\n",
    "# Fit the model\n",
    "iowa_model.fit(X,y)\n",
    "\n",
    "# Check your answer\n",
    "step_3.check()"
   ]
  },
  {
   "cell_type": "code",
   "execution_count": 8,
   "id": "052f07a2",
   "metadata": {
    "execution": {
     "iopub.execute_input": "2023-07-13T16:35:51.089594Z",
     "iopub.status.busy": "2023-07-13T16:35:51.088622Z",
     "iopub.status.idle": "2023-07-13T16:35:51.092497Z",
     "shell.execute_reply": "2023-07-13T16:35:51.091894Z"
    },
    "papermill": {
     "duration": 0.012733,
     "end_time": "2023-07-13T16:35:51.094676",
     "exception": false,
     "start_time": "2023-07-13T16:35:51.081943",
     "status": "completed"
    },
    "tags": []
   },
   "outputs": [],
   "source": [
    "# step_3.hint()\n",
    "# step_3.solution()"
   ]
  },
  {
   "cell_type": "markdown",
   "id": "ed3a708c",
   "metadata": {
    "papermill": {
     "duration": 0.004802,
     "end_time": "2023-07-13T16:35:51.104806",
     "exception": false,
     "start_time": "2023-07-13T16:35:51.100004",
     "status": "completed"
    },
    "tags": []
   },
   "source": [
    "## Step 4: Make Predictions\n",
    "Make predictions with the model's `predict` command using `X` as the data. Save the results to a variable called `predictions`."
   ]
  },
  {
   "cell_type": "code",
   "execution_count": 9,
   "id": "42945291",
   "metadata": {
    "execution": {
     "iopub.execute_input": "2023-07-13T16:35:51.116629Z",
     "iopub.status.busy": "2023-07-13T16:35:51.116104Z",
     "iopub.status.idle": "2023-07-13T16:35:51.129040Z",
     "shell.execute_reply": "2023-07-13T16:35:51.127925Z"
    },
    "papermill": {
     "duration": 0.021876,
     "end_time": "2023-07-13T16:35:51.131764",
     "exception": false,
     "start_time": "2023-07-13T16:35:51.109888",
     "status": "completed"
    },
    "tags": []
   },
   "outputs": [
    {
     "name": "stdout",
     "output_type": "stream",
     "text": [
      "[208500. 181500. 223500. ... 266500. 142125. 147500.]\n"
     ]
    },
    {
     "data": {
      "application/javascript": [
       "parent.postMessage({\"jupyterEvent\": \"custom.exercise_interaction\", \"data\": {\"outcomeType\": 1, \"valueTowardsCompletion\": 0.25, \"interactionType\": 1, \"questionType\": 2, \"questionId\": \"4_MakePredictions\", \"learnToolsVersion\": \"0.3.4\", \"failureMessage\": \"\", \"exceptionClass\": \"\", \"trace\": \"\"}}, \"*\")"
      ],
      "text/plain": [
       "<IPython.core.display.Javascript object>"
      ]
     },
     "metadata": {},
     "output_type": "display_data"
    },
    {
     "data": {
      "text/markdown": [
       "<span style=\"color:#33cc33\">Correct</span>"
      ],
      "text/plain": [
       "Correct"
      ]
     },
     "metadata": {},
     "output_type": "display_data"
    }
   ],
   "source": [
    "predictions = iowa_model.predict(X)\n",
    "print(predictions)\n",
    "\n",
    "# Check your answer\n",
    "step_4.check()"
   ]
  },
  {
   "cell_type": "code",
   "execution_count": 10,
   "id": "72837672",
   "metadata": {
    "execution": {
     "iopub.execute_input": "2023-07-13T16:35:51.144721Z",
     "iopub.status.busy": "2023-07-13T16:35:51.144342Z",
     "iopub.status.idle": "2023-07-13T16:35:51.149500Z",
     "shell.execute_reply": "2023-07-13T16:35:51.148022Z"
    },
    "papermill": {
     "duration": 0.014353,
     "end_time": "2023-07-13T16:35:51.152081",
     "exception": false,
     "start_time": "2023-07-13T16:35:51.137728",
     "status": "completed"
    },
    "tags": []
   },
   "outputs": [],
   "source": [
    "# step_4.hint()\n",
    "# step_4.solution()"
   ]
  },
  {
   "cell_type": "markdown",
   "id": "069b2739",
   "metadata": {
    "papermill": {
     "duration": 0.00527,
     "end_time": "2023-07-13T16:35:51.163359",
     "exception": false,
     "start_time": "2023-07-13T16:35:51.158089",
     "status": "completed"
    },
    "tags": []
   },
   "source": [
    "## Think About Your Results\n",
    "\n",
    "Use the `head` method to compare the top few predictions to the actual home values (in `y`) for those same homes. Anything surprising?\n"
   ]
  },
  {
   "cell_type": "code",
   "execution_count": 11,
   "id": "868d314d",
   "metadata": {
    "execution": {
     "iopub.execute_input": "2023-07-13T16:35:51.176001Z",
     "iopub.status.busy": "2023-07-13T16:35:51.175628Z",
     "iopub.status.idle": "2023-07-13T16:35:51.187182Z",
     "shell.execute_reply": "2023-07-13T16:35:51.186187Z"
    },
    "papermill": {
     "duration": 0.020191,
     "end_time": "2023-07-13T16:35:51.189055",
     "exception": false,
     "start_time": "2023-07-13T16:35:51.168864",
     "status": "completed"
    },
    "tags": []
   },
   "outputs": [
    {
     "name": "stdout",
     "output_type": "stream",
     "text": [
      "   LotArea  YearBuilt  1stFlrSF  2ndFlrSF  FullBath  BedroomAbvGr  \\\n",
      "0     8450       2003       856       854         2             3   \n",
      "1     9600       1976      1262         0         2             3   \n",
      "2    11250       2001       920       866         2             3   \n",
      "3     9550       1915       961       756         1             3   \n",
      "4    14260       2000      1145      1053         2             4   \n",
      "\n",
      "   TotRmsAbvGrd  \n",
      "0             8  \n",
      "1             6  \n",
      "2             6  \n",
      "3             7  \n",
      "4             9  \n",
      "[208500. 181500. 223500. 140000. 250000.]\n"
     ]
    }
   ],
   "source": [
    "print(X.head())\n",
    "print(iowa_model.predict(X.head()))"
   ]
  },
  {
   "cell_type": "markdown",
   "id": "7f4dd764",
   "metadata": {
    "papermill": {
     "duration": 0.005186,
     "end_time": "2023-07-13T16:35:51.199967",
     "exception": false,
     "start_time": "2023-07-13T16:35:51.194781",
     "status": "completed"
    },
    "tags": []
   },
   "source": [
    "It's natural to ask how accurate the model's predictions will be and how you can improve that. That will be you're next step.\n",
    "\n",
    "# Keep Going\n",
    "\n",
    "You are ready for **[Model Validation](https://www.kaggle.com/dansbecker/model-validation).**\n"
   ]
  },
  {
   "cell_type": "markdown",
   "id": "39d521d0",
   "metadata": {
    "papermill": {
     "duration": 0.006123,
     "end_time": "2023-07-13T16:35:51.211472",
     "exception": false,
     "start_time": "2023-07-13T16:35:51.205349",
     "status": "completed"
    },
    "tags": []
   },
   "source": [
    "---\n",
    "\n",
    "\n",
    "\n",
    "\n",
    "*Have questions or comments? Visit the [course discussion forum](https://www.kaggle.com/learn/intro-to-machine-learning/discussion) to chat with other learners.*"
   ]
  }
 ],
 "metadata": {
  "kernelspec": {
   "display_name": "Python 3",
   "language": "python",
   "name": "python3"
  },
  "language_info": {
   "codemirror_mode": {
    "name": "ipython",
    "version": 3
   },
   "file_extension": ".py",
   "mimetype": "text/x-python",
   "name": "python",
   "nbconvert_exporter": "python",
   "pygments_lexer": "ipython3",
   "version": "3.10.12"
  },
  "papermill": {
   "default_parameters": {},
   "duration": 11.444684,
   "end_time": "2023-07-13T16:35:52.138768",
   "environment_variables": {},
   "exception": null,
   "input_path": "__notebook__.ipynb",
   "output_path": "__notebook__.ipynb",
   "parameters": {},
   "start_time": "2023-07-13T16:35:40.694084",
   "version": "2.4.0"
  }
 },
 "nbformat": 4,
 "nbformat_minor": 5
}
